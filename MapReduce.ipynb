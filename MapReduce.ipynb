{
 "cells": [
  {
   "cell_type": "code",
   "execution_count": null,
   "id": "c95ccfbc",
   "metadata": {},
   "outputs": [],
   "source": [
    "import json\n",
    "from mrjob.job import MRJob\n",
    "from mrjob.step import MRStep\n",
    "import happybase as hb    "
   ]
  },
  {
   "cell_type": "code",
   "execution_count": null,
   "id": "4a44afe7",
   "metadata": {},
   "outputs": [],
   "source": [
    "class WordCounter(MRJob):\n",
    "    def mapper(self,key,value):\n",
    "        data = json.loads(value)\n",
    "        for x in data:\n",
    "            username = x.get('account').get('username')\n",
    "            followers = x.get('account').get('followers_count')\n",
    "            language = x.get(\"language\")\n",
    "            yield(f\"language:{language}\",1)\n",
    "            yield(f\"followers:{username}\",followers)\n",
    "            # yield(username, 1)\n",
    "\n",
    "    def combiner(self, key, values):\n",
    "        yield(key, sum(values))\n",
    "    \n",
    "    def reducer(self,key,values):\n",
    "        yield(key,sum(values))\n",
    "\n",
    "    def steps(self):\n",
    "        return [\n",
    "            MRStep(\n",
    "                mapper = self.mapper,\n",
    "                reducer=self.reducer\n",
    "            )\n",
    "        ]\n",
    "if __name__ == '__main__':\n",
    "    WordCounter.run()"
   ]
  }
 ],
 "metadata": {
  "kernelspec": {
   "display_name": "Python 3 (ipykernel)",
   "language": "python",
   "name": "python3"
  },
  "language_info": {
   "codemirror_mode": {
    "name": "ipython",
    "version": 3
   },
   "file_extension": ".py",
   "mimetype": "text/x-python",
   "name": "python",
   "nbconvert_exporter": "python",
   "pygments_lexer": "ipython3",
   "version": "3.10.10"
  },
  "vp": {
   "vp_config_version": "1.0.0",
   "vp_menu_width": 273,
   "vp_note_display": false,
   "vp_note_width": 0,
   "vp_position": {
    "width": 278
   },
   "vp_section_display": false,
   "vp_signature": "VisualPython"
  }
 },
 "nbformat": 4,
 "nbformat_minor": 5
}
